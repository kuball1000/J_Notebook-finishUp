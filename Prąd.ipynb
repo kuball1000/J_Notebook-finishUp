{
 "cells": [
  {
   "cell_type": "markdown",
   "id": "e9a40a3d",
   "metadata": {},
   "source": [
    "# Zużycie prądu na osobę w Europie na przestrzeni lat"
   ]
  },
  {
   "cell_type": "code",
   "execution_count": 4,
   "id": "8429df5e",
   "metadata": {},
   "outputs": [],
   "source": [
    "import pandas as pd\n",
    "import numpy as np\n",
    "import matplotlib.pyplot as plt\n",
    "import math as math"
   ]
  },
  {
   "cell_type": "code",
   "execution_count": 5,
   "id": "d7836c17",
   "metadata": {
    "collapsed": true
   },
   "outputs": [
    {
     "data": {
      "text/plain": [
       "0             Albania\n",
       "1             Austria\n",
       "2             Belarus\n",
       "3             Belgium\n",
       "4            Bulgaria\n",
       "5             Croatia\n",
       "6              Cyprus\n",
       "7      Czech Republic\n",
       "8             Denmark\n",
       "9             Estonia\n",
       "10            Finland\n",
       "11             France\n",
       "12            Germany\n",
       "13      GreeceHungary\n",
       "14            Iceland\n",
       "15            Ireland\n",
       "16              Italy\n",
       "17             Latvia\n",
       "18          Lithuania\n",
       "19         Luxembourg\n",
       "20          Macedonia\n",
       "21              Malta\n",
       "22         Montenegro\n",
       "23        Netherlands\n",
       "24             Norway\n",
       "25             Poland\n",
       "26    PortugalRomania\n",
       "27             Russia\n",
       "28             Serbia\n",
       "29           Slovenia\n",
       "30              Spain\n",
       "31             Sweden\n",
       "32        Switzerland\n",
       "33     United Kingdom\n",
       "34             Turkey\n",
       "35            Ukraine\n",
       "dtype: object"
      ]
     },
     "execution_count": 5,
     "metadata": {},
     "output_type": "execute_result"
    }
   ],
   "source": [
    "namesList = ['Albania','Austria','Belarus','Belgium','Bulgaria','Croatia','Cyprus',\n",
    "'Czech Republic','Denmark','Estonia','Finland','France','Germany','Greece'\n",
    "'Hungary','Iceland','Ireland','Italy','Latvia','Lithuania','Luxembourg',\n",
    "'Macedonia','Malta','Montenegro','Netherlands','Norway','Poland','Portugal'\n",
    "'Romania','Russia','Serbia','Slovenia','Spain','Sweden','Switzerland',\n",
    "'United Kingdom','Turkey','Ukraine']\n",
    "namesSeries = pd.Series(namesList)\n",
    "namesSeries"
   ]
  },
  {
   "cell_type": "code",
   "execution_count": 6,
   "id": "4961791f",
   "metadata": {
    "collapsed": true
   },
   "outputs": [
    {
     "data": {
      "text/plain": [
       "0      1947\n",
       "1      8347\n",
       "2      3564\n",
       "3      8369\n",
       "4      4560\n",
       "5      3814\n",
       "6      4623\n",
       "7      6348\n",
       "8      6328\n",
       "9      6506\n",
       "10    16483\n",
       "11     7736\n",
       "12     7264\n",
       "13     5318\n",
       "14     3876\n",
       "15    51440\n",
       "16     5911\n",
       "17     5494\n",
       "18     3230\n",
       "19     3471\n",
       "20    16830\n",
       "21     3521\n",
       "22     4171\n",
       "23     5420\n",
       "24     7010\n",
       "25    24891\n",
       "26     3797\n",
       "27     4959\n",
       "28     2551\n",
       "29     6410\n",
       "30     4359\n",
       "31     6521\n",
       "32     5707\n",
       "33    14934\n",
       "34     8175\n",
       "35     2498\n",
       "36     3550\n",
       "37     5701\n",
       "dtype: int64"
      ]
     },
     "execution_count": 6,
     "metadata": {},
     "output_type": "execute_result"
    }
   ],
   "source": [
    "energy2010List = [1947,8347,3564,8369,4560,3814,4623,6348,6328,6506,16483,7736,\n",
    "7264,5318,3876,51440,5911,5494,3230,3471,16830,3521,4171,5420,\n",
    "7010,24891,3797,4959,2551,6410,4359,6521,5707,14934,8175,2498,\n",
    "3550,5701]\n",
    "energy2010Series = pd.Series(energy2010List)\n",
    "energy2010Series"
   ]
  },
  {
   "cell_type": "code",
   "execution_count": 7,
   "id": "e189147f",
   "metadata": {
    "collapsed": true
   },
   "outputs": [
    {
     "data": {
      "text/plain": [
       "0      2118\n",
       "1      8507\n",
       "2      3698\n",
       "3      7987\n",
       "4      4762\n",
       "5      3819\n",
       "6      4057\n",
       "7      6305\n",
       "8      6039\n",
       "9      6689\n",
       "10    15687\n",
       "11     7344\n",
       "12     7270\n",
       "13     5511\n",
       "14     3919\n",
       "15    53203\n",
       "16     5665\n",
       "17     5398\n",
       "18     3588\n",
       "19     3608\n",
       "20    14696\n",
       "21     3626\n",
       "22     4761\n",
       "23     5416\n",
       "24     6871\n",
       "25    23658\n",
       "26     3899\n",
       "27     4736\n",
       "28     2604\n",
       "29     6617\n",
       "30     4387\n",
       "31     6778\n",
       "32     5573\n",
       "33    14290\n",
       "34     7886\n",
       "35     2794\n",
       "36     3641\n",
       "37     5452\n",
       "dtype: int64"
      ]
     },
     "execution_count": 7,
     "metadata": {},
     "output_type": "execute_result"
    }
   ],
   "source": [
    "energy2012List = [2118,8507,3698,7987,4762,3819,4057,6305,6039,6689,15687,7344,\n",
    "7270,5511,3919,53203,5665,5398,3588,3608,14696,3626,4761,5416,\n",
    "6871,23658,3899,4736,2604,6617,4387,6778,5573,14290,7886,2794,\n",
    "3641,5452]\n",
    "energy2012Series = pd.Series(energy2012List)\n",
    "energy2012Series"
   ]
  },
  {
   "cell_type": "code",
   "execution_count": 8,
   "id": "53cd4d78",
   "metadata": {},
   "outputs": [
    {
     "data": {
      "text/plain": [
       "7779.8421052631575"
      ]
     },
     "execution_count": 8,
     "metadata": {},
     "output_type": "execute_result"
    }
   ],
   "source": [
    "mean2010 = energy2010Series.mean()\n",
    "mean2010"
   ]
  },
  {
   "cell_type": "code",
   "execution_count": 9,
   "id": "226b5596",
   "metadata": {},
   "outputs": [
    {
     "data": {
      "text/plain": [
       "7706.815789473684"
      ]
     },
     "execution_count": 9,
     "metadata": {},
     "output_type": "execute_result"
    }
   ],
   "source": [
    "mean2012 = energy2012Series.mean()\n",
    "mean2012"
   ]
  },
  {
   "cell_type": "code",
   "execution_count": 11,
   "id": "675111f1",
   "metadata": {},
   "outputs": [],
   "source": [
    "filterAboveMean2010 = energy2010Series > mean2010\n",
    "filterAboveMean2012 = energy2012Series > mean2012"
   ]
  },
  {
   "cell_type": "code",
   "execution_count": 12,
   "id": "5ca32690",
   "metadata": {},
   "outputs": [
    {
     "data": {
      "text/plain": [
       "1            Austria\n",
       "3            Belgium\n",
       "10           Finland\n",
       "15           Ireland\n",
       "20         Macedonia\n",
       "25            Poland\n",
       "33    United Kingdom\n",
       "34            Turkey\n",
       "dtype: object"
      ]
     },
     "execution_count": 12,
     "metadata": {},
     "output_type": "execute_result"
    }
   ],
   "source": [
    "namesSeries.where(filterAboveMean2010 & filterAboveMean2012).dropna()"
   ]
  },
  {
   "cell_type": "code",
   "execution_count": 13,
   "id": "0c4b541c",
   "metadata": {},
   "outputs": [
    {
     "data": {
      "text/plain": [
       "Series([], dtype: object)"
      ]
     },
     "execution_count": 13,
     "metadata": {},
     "output_type": "execute_result"
    }
   ],
   "source": [
    "filterBelowMean2010 = energy2010Series < mean2010\n",
    "namesSeries.where(filterBelowMean2010 & filterAboveMean2012).dropna()"
   ]
  }
 ],
 "metadata": {
  "kernelspec": {
   "display_name": "Python 3 (ipykernel)",
   "language": "python",
   "name": "python3"
  },
  "language_info": {
   "codemirror_mode": {
    "name": "ipython",
    "version": 3
   },
   "file_extension": ".py",
   "mimetype": "text/x-python",
   "name": "python",
   "nbconvert_exporter": "python",
   "pygments_lexer": "ipython3",
   "version": "3.9.13"
  }
 },
 "nbformat": 4,
 "nbformat_minor": 5
}
