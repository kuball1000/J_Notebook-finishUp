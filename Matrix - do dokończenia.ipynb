{
 "cells": [
  {
   "cell_type": "code",
   "execution_count": 2,
   "id": "554d03e7",
   "metadata": {},
   "outputs": [],
   "source": [
    "import pandas as pd\n",
    "import numpy as np\n",
    "import matplotlib.pyplot as plt\n",
    "import math as math"
   ]
  },
  {
   "cell_type": "code",
   "execution_count": 58,
   "id": "0fef7e3a",
   "metadata": {},
   "outputs": [
    {
     "data": {
      "text/plain": [
       "array([[5, 2],\n",
       "       [3, 4]])"
      ]
     },
     "execution_count": 58,
     "metadata": {},
     "output_type": "execute_result"
    }
   ],
   "source": [
    "arr1 = np.array([[5, 2], [3, 4]])\n",
    "arr1"
   ]
  },
  {
   "cell_type": "code",
   "execution_count": 4,
   "id": "a809db59",
   "metadata": {},
   "outputs": [],
   "source": [
    "def Transpose(matrix):\n",
    "    return matrix.transpose()"
   ]
  },
  {
   "cell_type": "code",
   "execution_count": 9,
   "id": "9b35f87d",
   "metadata": {},
   "outputs": [],
   "source": [
    "def Sum(matrix):\n",
    "    return matrix.sum()"
   ]
  },
  {
   "cell_type": "code",
   "execution_count": 21,
   "id": "4bf71bfc",
   "metadata": {},
   "outputs": [],
   "source": [
    "def Linalg(matrix):\n",
    "    return np.linalg.det(matrix)"
   ]
  },
  {
   "cell_type": "code",
   "execution_count": 63,
   "id": "a951cf18",
   "metadata": {},
   "outputs": [
    {
     "name": "stdout",
     "output_type": "stream",
     "text": [
      "[[5 3]\n",
      " [2 4]]\n",
      "[[ 0.28571429 -0.14285714]\n",
      " [-0.21428571  0.35714286]]\n",
      "[[2 5]\n",
      " [3 4]]\n",
      "[ 5  7 10 14]\n",
      "[5 4]\n",
      "(array([0, 0, 1, 1], dtype=int64), array([0, 1, 0, 1], dtype=int64))\n",
      "[[5 2]\n",
      " [3 4]]\n",
      "[[10  4]\n",
      " [ 6  8]]\n"
     ]
    },
    {
     "data": {
      "text/plain": [
       "array([5, 2, 3, 4])"
      ]
     },
     "execution_count": 63,
     "metadata": {},
     "output_type": "execute_result"
    }
   ],
   "source": [
    "print(Transpose(arr1))\n",
    "print(Odw(arr1))\n",
    "print(np.sort(arr1))\n",
    "print(arr1.cumsum())\n",
    "print(arr1.diagonal())\n",
    "print(np.nonzero(arr1))\n",
    "print(arr1.squeeze())\n",
    "print(2*arr1)\n",
    "arr1.ravel()"
   ]
  },
  {
   "cell_type": "code",
   "execution_count": 24,
   "id": "13ead2de",
   "metadata": {},
   "outputs": [],
   "source": [
    "def Slad(matrix):\n",
    "    return np.trace(matrix)"
   ]
  },
  {
   "cell_type": "code",
   "execution_count": 25,
   "id": "25fd2ba1",
   "metadata": {},
   "outputs": [],
   "source": [
    "def Odw(matrix):\n",
    "    return np.linalg.inv(matrix)"
   ]
  },
  {
   "cell_type": "code",
   "execution_count": 61,
   "id": "6a0b8ced",
   "metadata": {},
   "outputs": [],
   "source": [
    "def Pomno(matrix, liczb):\n",
    "    return liczb*matrix"
   ]
  },
  {
   "cell_type": "code",
   "execution_count": 62,
   "id": "6c5dbe8f",
   "metadata": {},
   "outputs": [
    {
     "name": "stdout",
     "output_type": "stream",
     "text": [
      "[[15  6]\n",
      " [ 9 12]]\n"
     ]
    }
   ],
   "source": [
    "print(Pomno(arr1, 3))"
   ]
  },
  {
   "cell_type": "code",
   "execution_count": null,
   "id": "d81169b5",
   "metadata": {},
   "outputs": [],
   "source": []
  }
 ],
 "metadata": {
  "kernelspec": {
   "display_name": "Python 3 (ipykernel)",
   "language": "python",
   "name": "python3"
  },
  "language_info": {
   "codemirror_mode": {
    "name": "ipython",
    "version": 3
   },
   "file_extension": ".py",
   "mimetype": "text/x-python",
   "name": "python",
   "nbconvert_exporter": "python",
   "pygments_lexer": "ipython3",
   "version": "3.9.13"
  }
 },
 "nbformat": 4,
 "nbformat_minor": 5
}
